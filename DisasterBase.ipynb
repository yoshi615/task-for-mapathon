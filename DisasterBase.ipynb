{
 "cells": [
  {
   "cell_type": "code",
   "execution_count": 5,
   "id": "ae5b3175",
   "metadata": {},
   "outputs": [],
   "source": [
    "# Lat, Lonが空白の行に同じCountryのデータから座標を埋める\n",
    "for index, row in data.iterrows():\n",
    "    if pd.isna(row['Latitude']) or pd.isna(row['Longitude']):\n",
    "        country_data = data[(data['Country'] == row['Country']) & \n",
    "                            ~pd.isna(data['Latitude']) & \n",
    "                            ~pd.isna(data['Longitude'])]\n",
    "        if not country_data.empty:\n",
    "            data.at[index, 'Latitude'] = country_data.iloc[0]['Latitude']\n",
    "            data.at[index, 'Longitude'] = country_data.iloc[0]['Longitude']\n",
    "\n",
    "# 結果を保存する\n",
    "data.to_csv(\"added_LatLonData.csv\", index=False)\n"
   ]
  }
 ],
 "metadata": {
  "kernelspec": {
   "display_name": "base",
   "language": "python",
   "name": "python3"
  },
  "language_info": {
   "codemirror_mode": {
    "name": "ipython",
    "version": 3
   },
   "file_extension": ".py",
   "mimetype": "text/x-python",
   "name": "python",
   "nbconvert_exporter": "python",
   "pygments_lexer": "ipython3",
   "version": "3.11.7"
  }
 },
 "nbformat": 4,
 "nbformat_minor": 5
}
